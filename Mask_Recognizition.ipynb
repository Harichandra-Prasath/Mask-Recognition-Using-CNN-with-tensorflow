{
 "cells": [
  {
   "cell_type": "code",
   "execution_count": 2,
   "metadata": {},
   "outputs": [
    {
     "name": "stderr",
     "output_type": "stream",
     "text": [
      "2023-01-28 22:19:06.388278: I tensorflow/core/platform/cpu_feature_guard.cc:193] This TensorFlow binary is optimized with oneAPI Deep Neural Network Library (oneDNN) to use the following CPU instructions in performance-critical operations:  AVX2 FMA\n",
      "To enable them in other operations, rebuild TensorFlow with the appropriate compiler flags.\n"
     ]
    }
   ],
   "source": [
    "import tensorflow as tf"
   ]
  },
  {
   "cell_type": "code",
   "execution_count": 3,
   "metadata": {},
   "outputs": [
    {
     "name": "stdout",
     "output_type": "stream",
     "text": [
      "Found 4072 files belonging to 2 classes.\n",
      "Using 3258 files for training.\n",
      "Found 4072 files belonging to 2 classes.\n",
      "Using 814 files for validation.\n"
     ]
    },
    {
     "name": "stderr",
     "output_type": "stream",
     "text": [
      "2023-01-28 22:19:10.403650: I tensorflow/core/platform/cpu_feature_guard.cc:193] This TensorFlow binary is optimized with oneAPI Deep Neural Network Library (oneDNN) to use the following CPU instructions in performance-critical operations:  AVX2 FMA\n",
      "To enable them in other operations, rebuild TensorFlow with the appropriate compiler flags.\n"
     ]
    }
   ],
   "source": [
    "train = tf.keras.utils.image_dataset_from_directory(\"/home/hcp_0/DL/Mask Detection/Data/Images\" , validation_split=0.2, subset=\"training\" , seed=1 , image_size=(256,256),batch_size=32)\n",
    "validation = tf.keras.utils.image_dataset_from_directory(\"/home/hcp_0/DL/Mask Detection/Data/Images\" , validation_split=0.2, subset=\"validation\" , seed=1 , image_size=(256,256),batch_size=32)"
   ]
  },
  {
   "cell_type": "code",
   "execution_count": 4,
   "metadata": {},
   "outputs": [],
   "source": [
    "#Building the model\n",
    "\n",
    "model = tf.keras.Sequential([\n",
    "    tf.keras.layers.Rescaling(1./255 , input_shape=(256,256 , 3)),\n",
    "    tf.keras.layers.Conv2D(16,(3,3),activation=\"relu\"),\n",
    "    tf.keras.layers.MaxPooling2D(2,2),\n",
    "    tf.keras.layers.Conv2D(32,(3,3),activation=\"relu\"),\n",
    "    tf.keras.layers.MaxPooling2D(2,2),\n",
    "    tf.keras.layers.Conv2D(32,(3,3),activation=\"relu\"),\n",
    "    tf.keras.layers.MaxPooling2D(2,2),\n",
    "    tf.keras.layers.Conv2D(64,(3,3),activation=\"relu\"),\n",
    "    tf.keras.layers.MaxPooling2D(2,2),\n",
    "    tf.keras.layers.Flatten(),\n",
    "    tf.keras.layers.Dense(512,activation=\"relu\"),\n",
    "    tf.keras.layers.Dense(1,activation=\"sigmoid\")\n",
    "\n",
    "\n",
    "])"
   ]
  },
  {
   "cell_type": "code",
   "execution_count": 5,
   "metadata": {},
   "outputs": [
    {
     "name": "stdout",
     "output_type": "stream",
     "text": [
      "Epoch 1/10\n",
      "  7/102 [=>............................] - ETA: 1:18 - loss: 0.5003 - accuracy: 0.8393"
     ]
    },
    {
     "name": "stderr",
     "output_type": "stream",
     "text": [
      "2023-01-28 22:19:23.418482: W tensorflow/core/lib/png/png_io.cc:88] PNG warning: iCCP: Not recognizing known sRGB profile that has been edited\n"
     ]
    },
    {
     "name": "stdout",
     "output_type": "stream",
     "text": [
      " 47/102 [============>.................] - ETA: 44s - loss: 0.2482 - accuracy: 0.9096"
     ]
    },
    {
     "name": "stderr",
     "output_type": "stream",
     "text": [
      "2023-01-28 22:19:55.812992: W tensorflow/core/lib/png/png_io.cc:88] PNG warning: iCCP: Not recognizing known sRGB profile that has been edited\n"
     ]
    },
    {
     "name": "stdout",
     "output_type": "stream",
     "text": [
      " 55/102 [===============>..............] - ETA: 37s - loss: 0.2261 - accuracy: 0.9182"
     ]
    },
    {
     "name": "stderr",
     "output_type": "stream",
     "text": [
      "2023-01-28 22:20:02.099031: W tensorflow/core/lib/png/png_io.cc:88] PNG warning: iCCP: Not recognizing known sRGB profile that has been edited\n"
     ]
    },
    {
     "name": "stdout",
     "output_type": "stream",
     "text": [
      " 68/102 [===================>..........] - ETA: 27s - loss: 0.2103 - accuracy: 0.9246"
     ]
    },
    {
     "name": "stderr",
     "output_type": "stream",
     "text": [
      "2023-01-28 22:20:12.213629: W tensorflow/core/lib/png/png_io.cc:88] PNG warning: iCCP: Not recognizing known sRGB profile that has been edited\n"
     ]
    },
    {
     "name": "stdout",
     "output_type": "stream",
     "text": [
      "102/102 [==============================] - ETA: 0s - loss: 0.1845 - accuracy: 0.9337"
     ]
    },
    {
     "name": "stderr",
     "output_type": "stream",
     "text": [
      "2023-01-28 22:20:39.559992: W tensorflow/core/lib/png/png_io.cc:88] PNG warning: iCCP: Not recognizing known sRGB profile that has been edited\n"
     ]
    },
    {
     "name": "stdout",
     "output_type": "stream",
     "text": [
      "102/102 [==============================] - 86s 834ms/step - loss: 0.1845 - accuracy: 0.9337 - val_loss: 0.1205 - val_accuracy: 0.9631\n",
      "Epoch 2/10\n",
      "  7/102 [=>............................] - ETA: 1:13 - loss: 0.1108 - accuracy: 0.9554"
     ]
    },
    {
     "name": "stderr",
     "output_type": "stream",
     "text": [
      "2023-01-28 22:20:48.147495: W tensorflow/core/lib/png/png_io.cc:88] PNG warning: iCCP: Not recognizing known sRGB profile that has been edited\n"
     ]
    },
    {
     "name": "stdout",
     "output_type": "stream",
     "text": [
      " 47/102 [============>.................] - ETA: 43s - loss: 0.1105 - accuracy: 0.9588"
     ]
    },
    {
     "name": "stderr",
     "output_type": "stream",
     "text": [
      "2023-01-28 22:21:19.882144: W tensorflow/core/lib/png/png_io.cc:88] PNG warning: iCCP: Not recognizing known sRGB profile that has been edited\n"
     ]
    },
    {
     "name": "stdout",
     "output_type": "stream",
     "text": [
      " 55/102 [===============>..............] - ETA: 37s - loss: 0.1129 - accuracy: 0.9574"
     ]
    },
    {
     "name": "stderr",
     "output_type": "stream",
     "text": [
      "2023-01-28 22:21:26.500911: W tensorflow/core/lib/png/png_io.cc:88] PNG warning: iCCP: Not recognizing known sRGB profile that has been edited\n"
     ]
    },
    {
     "name": "stdout",
     "output_type": "stream",
     "text": [
      " 68/102 [===================>..........] - ETA: 27s - loss: 0.1153 - accuracy: 0.9577"
     ]
    },
    {
     "name": "stderr",
     "output_type": "stream",
     "text": [
      "2023-01-28 22:21:37.277048: W tensorflow/core/lib/png/png_io.cc:88] PNG warning: iCCP: Not recognizing known sRGB profile that has been edited\n"
     ]
    },
    {
     "name": "stdout",
     "output_type": "stream",
     "text": [
      "102/102 [==============================] - ETA: 0s - loss: 0.1137 - accuracy: 0.9598"
     ]
    },
    {
     "name": "stderr",
     "output_type": "stream",
     "text": [
      "2023-01-28 22:22:04.781624: W tensorflow/core/lib/png/png_io.cc:88] PNG warning: iCCP: Not recognizing known sRGB profile that has been edited\n"
     ]
    },
    {
     "name": "stdout",
     "output_type": "stream",
     "text": [
      "102/102 [==============================] - 85s 838ms/step - loss: 0.1137 - accuracy: 0.9598 - val_loss: 0.1144 - val_accuracy: 0.9582\n",
      "Epoch 3/10\n",
      "  7/102 [=>............................] - ETA: 1:18 - loss: 0.1465 - accuracy: 0.9509"
     ]
    },
    {
     "name": "stderr",
     "output_type": "stream",
     "text": [
      "2023-01-28 22:22:13.948649: W tensorflow/core/lib/png/png_io.cc:88] PNG warning: iCCP: Not recognizing known sRGB profile that has been edited\n"
     ]
    },
    {
     "name": "stdout",
     "output_type": "stream",
     "text": [
      " 47/102 [============>.................] - ETA: 43s - loss: 0.1113 - accuracy: 0.9594"
     ]
    },
    {
     "name": "stderr",
     "output_type": "stream",
     "text": [
      "2023-01-28 22:22:44.988077: W tensorflow/core/lib/png/png_io.cc:88] PNG warning: iCCP: Not recognizing known sRGB profile that has been edited\n"
     ]
    },
    {
     "name": "stdout",
     "output_type": "stream",
     "text": [
      " 55/102 [===============>..............] - ETA: 36s - loss: 0.1075 - accuracy: 0.9614"
     ]
    },
    {
     "name": "stderr",
     "output_type": "stream",
     "text": [
      "2023-01-28 22:22:51.523897: W tensorflow/core/lib/png/png_io.cc:88] PNG warning: iCCP: Not recognizing known sRGB profile that has been edited\n"
     ]
    },
    {
     "name": "stdout",
     "output_type": "stream",
     "text": [
      " 68/102 [===================>..........] - ETA: 26s - loss: 0.1078 - accuracy: 0.9619"
     ]
    },
    {
     "name": "stderr",
     "output_type": "stream",
     "text": [
      "2023-01-28 22:23:02.209656: W tensorflow/core/lib/png/png_io.cc:88] PNG warning: iCCP: Not recognizing known sRGB profile that has been edited\n"
     ]
    },
    {
     "name": "stdout",
     "output_type": "stream",
     "text": [
      "102/102 [==============================] - ETA: 0s - loss: 0.1096 - accuracy: 0.9595"
     ]
    },
    {
     "name": "stderr",
     "output_type": "stream",
     "text": [
      "2023-01-28 22:23:29.238212: W tensorflow/core/lib/png/png_io.cc:88] PNG warning: iCCP: Not recognizing known sRGB profile that has been edited\n"
     ]
    },
    {
     "name": "stdout",
     "output_type": "stream",
     "text": [
      "102/102 [==============================] - 84s 827ms/step - loss: 0.1096 - accuracy: 0.9595 - val_loss: 0.1268 - val_accuracy: 0.9496\n",
      "Epoch 4/10\n",
      "  7/102 [=>............................] - ETA: 1:17 - loss: 0.1006 - accuracy: 0.9554"
     ]
    },
    {
     "name": "stderr",
     "output_type": "stream",
     "text": [
      "2023-01-28 22:23:38.322578: W tensorflow/core/lib/png/png_io.cc:88] PNG warning: iCCP: Not recognizing known sRGB profile that has been edited\n"
     ]
    },
    {
     "name": "stdout",
     "output_type": "stream",
     "text": [
      " 47/102 [============>.................] - ETA: 42s - loss: 0.1145 - accuracy: 0.9555"
     ]
    },
    {
     "name": "stderr",
     "output_type": "stream",
     "text": [
      "2023-01-28 22:24:09.205964: W tensorflow/core/lib/png/png_io.cc:88] PNG warning: iCCP: Not recognizing known sRGB profile that has been edited\n"
     ]
    },
    {
     "name": "stdout",
     "output_type": "stream",
     "text": [
      " 55/102 [===============>..............] - ETA: 36s - loss: 0.1122 - accuracy: 0.9568"
     ]
    },
    {
     "name": "stderr",
     "output_type": "stream",
     "text": [
      "2023-01-28 22:24:15.778900: W tensorflow/core/lib/png/png_io.cc:88] PNG warning: iCCP: Not recognizing known sRGB profile that has been edited\n"
     ]
    },
    {
     "name": "stdout",
     "output_type": "stream",
     "text": [
      " 68/102 [===================>..........] - ETA: 26s - loss: 0.1056 - accuracy: 0.9591"
     ]
    },
    {
     "name": "stderr",
     "output_type": "stream",
     "text": [
      "2023-01-28 22:24:26.494737: W tensorflow/core/lib/png/png_io.cc:88] PNG warning: iCCP: Not recognizing known sRGB profile that has been edited\n"
     ]
    },
    {
     "name": "stdout",
     "output_type": "stream",
     "text": [
      "102/102 [==============================] - ETA: 0s - loss: 0.1157 - accuracy: 0.9555"
     ]
    },
    {
     "name": "stderr",
     "output_type": "stream",
     "text": [
      "2023-01-28 22:24:52.684173: W tensorflow/core/lib/png/png_io.cc:88] PNG warning: iCCP: Not recognizing known sRGB profile that has been edited\n"
     ]
    },
    {
     "name": "stdout",
     "output_type": "stream",
     "text": [
      "102/102 [==============================] - 83s 818ms/step - loss: 0.1157 - accuracy: 0.9555 - val_loss: 0.1308 - val_accuracy: 0.9509\n",
      "Epoch 5/10\n",
      "  7/102 [=>............................] - ETA: 1:17 - loss: 0.1061 - accuracy: 0.9509"
     ]
    },
    {
     "name": "stderr",
     "output_type": "stream",
     "text": [
      "2023-01-28 22:25:01.810258: W tensorflow/core/lib/png/png_io.cc:88] PNG warning: iCCP: Not recognizing known sRGB profile that has been edited\n"
     ]
    },
    {
     "name": "stdout",
     "output_type": "stream",
     "text": [
      " 47/102 [============>.................] - ETA: 43s - loss: 0.0990 - accuracy: 0.9641"
     ]
    },
    {
     "name": "stderr",
     "output_type": "stream",
     "text": [
      "2023-01-28 22:25:33.607871: W tensorflow/core/lib/png/png_io.cc:88] PNG warning: iCCP: Not recognizing known sRGB profile that has been edited\n"
     ]
    },
    {
     "name": "stdout",
     "output_type": "stream",
     "text": [
      " 55/102 [===============>..............] - ETA: 37s - loss: 0.0996 - accuracy: 0.9631"
     ]
    },
    {
     "name": "stderr",
     "output_type": "stream",
     "text": [
      "2023-01-28 22:25:40.175574: W tensorflow/core/lib/png/png_io.cc:88] PNG warning: iCCP: Not recognizing known sRGB profile that has been edited\n"
     ]
    },
    {
     "name": "stdout",
     "output_type": "stream",
     "text": [
      " 68/102 [===================>..........] - ETA: 27s - loss: 0.0916 - accuracy: 0.9660"
     ]
    },
    {
     "name": "stderr",
     "output_type": "stream",
     "text": [
      "2023-01-28 22:25:50.807424: W tensorflow/core/lib/png/png_io.cc:88] PNG warning: iCCP: Not recognizing known sRGB profile that has been edited\n"
     ]
    },
    {
     "name": "stdout",
     "output_type": "stream",
     "text": [
      "102/102 [==============================] - ETA: 0s - loss: 0.0968 - accuracy: 0.9644"
     ]
    },
    {
     "name": "stderr",
     "output_type": "stream",
     "text": [
      "2023-01-28 22:26:17.066330: W tensorflow/core/lib/png/png_io.cc:88] PNG warning: iCCP: Not recognizing known sRGB profile that has been edited\n"
     ]
    },
    {
     "name": "stdout",
     "output_type": "stream",
     "text": [
      "102/102 [==============================] - 84s 826ms/step - loss: 0.0968 - accuracy: 0.9644 - val_loss: 0.1238 - val_accuracy: 0.9545\n",
      "Epoch 6/10\n",
      "  7/102 [=>............................] - ETA: 1:17 - loss: 0.0639 - accuracy: 0.9777"
     ]
    },
    {
     "name": "stderr",
     "output_type": "stream",
     "text": [
      "2023-01-28 22:26:26.164365: W tensorflow/core/lib/png/png_io.cc:88] PNG warning: iCCP: Not recognizing known sRGB profile that has been edited\n"
     ]
    },
    {
     "name": "stdout",
     "output_type": "stream",
     "text": [
      " 47/102 [============>.................] - ETA: 42s - loss: 0.0822 - accuracy: 0.9688"
     ]
    },
    {
     "name": "stderr",
     "output_type": "stream",
     "text": [
      "2023-01-28 22:26:56.997474: W tensorflow/core/lib/png/png_io.cc:88] PNG warning: iCCP: Not recognizing known sRGB profile that has been edited\n"
     ]
    },
    {
     "name": "stdout",
     "output_type": "stream",
     "text": [
      " 55/102 [===============>..............] - ETA: 36s - loss: 0.0796 - accuracy: 0.9699"
     ]
    },
    {
     "name": "stderr",
     "output_type": "stream",
     "text": [
      "2023-01-28 22:27:03.570283: W tensorflow/core/lib/png/png_io.cc:88] PNG warning: iCCP: Not recognizing known sRGB profile that has been edited\n"
     ]
    },
    {
     "name": "stdout",
     "output_type": "stream",
     "text": [
      " 68/102 [===================>..........] - ETA: 26s - loss: 0.0850 - accuracy: 0.9678"
     ]
    },
    {
     "name": "stderr",
     "output_type": "stream",
     "text": [
      "2023-01-28 22:27:14.247869: W tensorflow/core/lib/png/png_io.cc:88] PNG warning: iCCP: Not recognizing known sRGB profile that has been edited\n"
     ]
    },
    {
     "name": "stdout",
     "output_type": "stream",
     "text": [
      "102/102 [==============================] - ETA: 0s - loss: 0.0918 - accuracy: 0.9647"
     ]
    },
    {
     "name": "stderr",
     "output_type": "stream",
     "text": [
      "2023-01-28 22:27:40.489183: W tensorflow/core/lib/png/png_io.cc:88] PNG warning: iCCP: Not recognizing known sRGB profile that has been edited\n"
     ]
    },
    {
     "name": "stdout",
     "output_type": "stream",
     "text": [
      "102/102 [==============================] - 83s 817ms/step - loss: 0.0918 - accuracy: 0.9647 - val_loss: 0.1374 - val_accuracy: 0.9533\n",
      "Epoch 7/10\n",
      "  7/102 [=>............................] - ETA: 1:18 - loss: 0.1023 - accuracy: 0.9777"
     ]
    },
    {
     "name": "stderr",
     "output_type": "stream",
     "text": [
      "2023-01-28 22:27:49.607376: W tensorflow/core/lib/png/png_io.cc:88] PNG warning: iCCP: Not recognizing known sRGB profile that has been edited\n"
     ]
    },
    {
     "name": "stdout",
     "output_type": "stream",
     "text": [
      " 47/102 [============>.................] - ETA: 42s - loss: 0.0807 - accuracy: 0.9734"
     ]
    },
    {
     "name": "stderr",
     "output_type": "stream",
     "text": [
      "2023-01-28 22:28:20.543846: W tensorflow/core/lib/png/png_io.cc:88] PNG warning: iCCP: Not recognizing known sRGB profile that has been edited\n"
     ]
    },
    {
     "name": "stdout",
     "output_type": "stream",
     "text": [
      " 55/102 [===============>..............] - ETA: 37s - loss: 0.0811 - accuracy: 0.9727"
     ]
    },
    {
     "name": "stderr",
     "output_type": "stream",
     "text": [
      "2023-01-28 22:28:27.219991: W tensorflow/core/lib/png/png_io.cc:88] PNG warning: iCCP: Not recognizing known sRGB profile that has been edited\n"
     ]
    },
    {
     "name": "stdout",
     "output_type": "stream",
     "text": [
      " 68/102 [===================>..........] - ETA: 27s - loss: 0.0807 - accuracy: 0.9738"
     ]
    },
    {
     "name": "stderr",
     "output_type": "stream",
     "text": [
      "2023-01-28 22:28:39.142593: W tensorflow/core/lib/png/png_io.cc:88] PNG warning: iCCP: Not recognizing known sRGB profile that has been edited\n"
     ]
    },
    {
     "name": "stdout",
     "output_type": "stream",
     "text": [
      "102/102 [==============================] - ETA: 0s - loss: 0.0822 - accuracy: 0.9718"
     ]
    },
    {
     "name": "stderr",
     "output_type": "stream",
     "text": [
      "2023-01-28 22:29:07.339647: W tensorflow/core/lib/png/png_io.cc:88] PNG warning: iCCP: Not recognizing known sRGB profile that has been edited\n"
     ]
    },
    {
     "name": "stdout",
     "output_type": "stream",
     "text": [
      "102/102 [==============================] - 87s 853ms/step - loss: 0.0822 - accuracy: 0.9718 - val_loss: 0.0975 - val_accuracy: 0.9631\n",
      "Epoch 8/10\n",
      "  7/102 [=>............................] - ETA: 1:23 - loss: 0.0551 - accuracy: 0.9866"
     ]
    },
    {
     "name": "stderr",
     "output_type": "stream",
     "text": [
      "2023-01-28 22:29:16.970328: W tensorflow/core/lib/png/png_io.cc:88] PNG warning: iCCP: Not recognizing known sRGB profile that has been edited\n"
     ]
    },
    {
     "name": "stdout",
     "output_type": "stream",
     "text": [
      " 47/102 [============>.................] - ETA: 44s - loss: 0.0749 - accuracy: 0.9727"
     ]
    },
    {
     "name": "stderr",
     "output_type": "stream",
     "text": [
      "2023-01-28 22:29:48.954341: W tensorflow/core/lib/png/png_io.cc:88] PNG warning: iCCP: Not recognizing known sRGB profile that has been edited\n"
     ]
    },
    {
     "name": "stdout",
     "output_type": "stream",
     "text": [
      " 55/102 [===============>..............] - ETA: 38s - loss: 0.0759 - accuracy: 0.9727"
     ]
    },
    {
     "name": "stderr",
     "output_type": "stream",
     "text": [
      "2023-01-28 22:29:55.549682: W tensorflow/core/lib/png/png_io.cc:88] PNG warning: iCCP: Not recognizing known sRGB profile that has been edited\n"
     ]
    },
    {
     "name": "stdout",
     "output_type": "stream",
     "text": [
      " 68/102 [===================>..........] - ETA: 27s - loss: 0.0835 - accuracy: 0.9701"
     ]
    },
    {
     "name": "stderr",
     "output_type": "stream",
     "text": [
      "2023-01-28 22:30:06.313077: W tensorflow/core/lib/png/png_io.cc:88] PNG warning: iCCP: Not recognizing known sRGB profile that has been edited\n"
     ]
    },
    {
     "name": "stdout",
     "output_type": "stream",
     "text": [
      "102/102 [==============================] - ETA: 0s - loss: 0.0889 - accuracy: 0.9690"
     ]
    },
    {
     "name": "stderr",
     "output_type": "stream",
     "text": [
      "2023-01-28 22:30:33.524773: W tensorflow/core/lib/png/png_io.cc:88] PNG warning: iCCP: Not recognizing known sRGB profile that has been edited\n"
     ]
    },
    {
     "name": "stdout",
     "output_type": "stream",
     "text": [
      "102/102 [==============================] - 86s 842ms/step - loss: 0.0889 - accuracy: 0.9690 - val_loss: 0.1284 - val_accuracy: 0.9558\n",
      "Epoch 9/10\n",
      "  7/102 [=>............................] - ETA: 1:18 - loss: 0.0682 - accuracy: 0.9732"
     ]
    },
    {
     "name": "stderr",
     "output_type": "stream",
     "text": [
      "2023-01-28 22:30:42.581454: W tensorflow/core/lib/png/png_io.cc:88] PNG warning: iCCP: Not recognizing known sRGB profile that has been edited\n"
     ]
    },
    {
     "name": "stdout",
     "output_type": "stream",
     "text": [
      " 47/102 [============>.................] - ETA: 43s - loss: 0.0741 - accuracy: 0.9747"
     ]
    },
    {
     "name": "stderr",
     "output_type": "stream",
     "text": [
      "2023-01-28 22:31:13.615450: W tensorflow/core/lib/png/png_io.cc:88] PNG warning: iCCP: Not recognizing known sRGB profile that has been edited\n"
     ]
    },
    {
     "name": "stdout",
     "output_type": "stream",
     "text": [
      " 55/102 [===============>..............] - ETA: 37s - loss: 0.0743 - accuracy: 0.9744"
     ]
    },
    {
     "name": "stderr",
     "output_type": "stream",
     "text": [
      "2023-01-28 22:31:20.215021: W tensorflow/core/lib/png/png_io.cc:88] PNG warning: iCCP: Not recognizing known sRGB profile that has been edited\n"
     ]
    },
    {
     "name": "stdout",
     "output_type": "stream",
     "text": [
      " 68/102 [===================>..........] - ETA: 27s - loss: 0.0773 - accuracy: 0.9743"
     ]
    },
    {
     "name": "stderr",
     "output_type": "stream",
     "text": [
      "2023-01-28 22:31:30.914891: W tensorflow/core/lib/png/png_io.cc:88] PNG warning: iCCP: Not recognizing known sRGB profile that has been edited\n"
     ]
    },
    {
     "name": "stdout",
     "output_type": "stream",
     "text": [
      "102/102 [==============================] - ETA: 0s - loss: 0.0815 - accuracy: 0.9699"
     ]
    },
    {
     "name": "stderr",
     "output_type": "stream",
     "text": [
      "2023-01-28 22:31:57.287422: W tensorflow/core/lib/png/png_io.cc:88] PNG warning: iCCP: Not recognizing known sRGB profile that has been edited\n"
     ]
    },
    {
     "name": "stdout",
     "output_type": "stream",
     "text": [
      "102/102 [==============================] - 84s 821ms/step - loss: 0.0815 - accuracy: 0.9699 - val_loss: 0.0978 - val_accuracy: 0.9656\n",
      "Epoch 10/10\n",
      "  7/102 [=>............................] - ETA: 1:18 - loss: 0.0800 - accuracy: 0.9643"
     ]
    },
    {
     "name": "stderr",
     "output_type": "stream",
     "text": [
      "2023-01-28 22:32:06.393781: W tensorflow/core/lib/png/png_io.cc:88] PNG warning: iCCP: Not recognizing known sRGB profile that has been edited\n"
     ]
    },
    {
     "name": "stdout",
     "output_type": "stream",
     "text": [
      " 47/102 [============>.................] - ETA: 44s - loss: 0.0680 - accuracy: 0.9688"
     ]
    },
    {
     "name": "stderr",
     "output_type": "stream",
     "text": [
      "2023-01-28 22:32:38.259428: W tensorflow/core/lib/png/png_io.cc:88] PNG warning: iCCP: Not recognizing known sRGB profile that has been edited\n"
     ]
    },
    {
     "name": "stdout",
     "output_type": "stream",
     "text": [
      " 55/102 [===============>..............] - ETA: 37s - loss: 0.0676 - accuracy: 0.9688"
     ]
    },
    {
     "name": "stderr",
     "output_type": "stream",
     "text": [
      "2023-01-28 22:32:44.843607: W tensorflow/core/lib/png/png_io.cc:88] PNG warning: iCCP: Not recognizing known sRGB profile that has been edited\n"
     ]
    },
    {
     "name": "stdout",
     "output_type": "stream",
     "text": [
      " 68/102 [===================>..........] - ETA: 27s - loss: 0.0673 - accuracy: 0.9706"
     ]
    },
    {
     "name": "stderr",
     "output_type": "stream",
     "text": [
      "2023-01-28 22:32:55.517409: W tensorflow/core/lib/png/png_io.cc:88] PNG warning: iCCP: Not recognizing known sRGB profile that has been edited\n"
     ]
    },
    {
     "name": "stdout",
     "output_type": "stream",
     "text": [
      "102/102 [==============================] - ETA: 0s - loss: 0.0725 - accuracy: 0.9699"
     ]
    },
    {
     "name": "stderr",
     "output_type": "stream",
     "text": [
      "2023-01-28 22:33:21.855409: W tensorflow/core/lib/png/png_io.cc:88] PNG warning: iCCP: Not recognizing known sRGB profile that has been edited\n"
     ]
    },
    {
     "name": "stdout",
     "output_type": "stream",
     "text": [
      "102/102 [==============================] - 85s 831ms/step - loss: 0.0725 - accuracy: 0.9699 - val_loss: 0.1050 - val_accuracy: 0.9705\n"
     ]
    }
   ],
   "source": [
    "model.compile(loss=\"binary_crossentropy\",optimizer=\"adam\",metrics=[\"accuracy\"])\n",
    "\n",
    "history = model.fit(train,validation_data=validation,epochs=10)"
   ]
  }
 ],
 "metadata": {
  "kernelspec": {
   "display_name": ".venv",
   "language": "python",
   "name": "python3"
  },
  "language_info": {
   "codemirror_mode": {
    "name": "ipython",
    "version": 3
   },
   "file_extension": ".py",
   "mimetype": "text/x-python",
   "name": "python",
   "nbconvert_exporter": "python",
   "pygments_lexer": "ipython3",
   "version": "3.10.6 (main, Nov 14 2022, 16:10:14) [GCC 11.3.0]"
  },
  "orig_nbformat": 4,
  "vscode": {
   "interpreter": {
    "hash": "6b30c9ba03b399a00445b57e8329e7e8ff9126c8b131d3b5ebe05bafd9dada6e"
   }
  }
 },
 "nbformat": 4,
 "nbformat_minor": 2
}
