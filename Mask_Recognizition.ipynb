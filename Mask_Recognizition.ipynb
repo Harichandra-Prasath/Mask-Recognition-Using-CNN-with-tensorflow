{
 "cells": [
  {
   "cell_type": "code",
   "execution_count": 5,
   "metadata": {},
   "outputs": [],
   "source": [
    "import tensorflow as tf"
   ]
  },
  {
   "cell_type": "code",
   "execution_count": 6,
   "metadata": {},
   "outputs": [
    {
     "name": "stdout",
     "output_type": "stream",
     "text": [
      "Found 4072 files belonging to 2 classes.\n",
      "Using 3258 files for training.\n",
      "Found 4072 files belonging to 2 classes.\n",
      "Using 814 files for validation.\n"
     ]
    }
   ],
   "source": [
    "train = tf.keras.utils.image_dataset_from_directory(\"./Data/Images\" , validation_split=0.2, subset=\"training\" , seed=1 , image_size=(256,256),batch_size=32)\n",
    "validation = tf.keras.utils.image_dataset_from_directory(\"./Data/Images\" , validation_split=0.2, subset=\"validation\" , seed=1 , image_size=(256,256),batch_size=32)"
   ]
  },
  {
   "cell_type": "code",
   "execution_count": 7,
   "metadata": {},
   "outputs": [],
   "source": [
    "#Building the model\n",
    "\n",
    "model = tf.keras.Sequential([\n",
    "    tf.keras.layers.Rescaling(1./255 , input_shape=(256,256 , 3)),\n",
    "    tf.keras.layers.Conv2D(16,(3,3),activation=\"relu\"),\n",
    "    tf.keras.layers.MaxPooling2D(2,2),\n",
    "    tf.keras.layers.Conv2D(32,(3,3),activation=\"relu\"),\n",
    "    tf.keras.layers.MaxPooling2D(2,2),\n",
    "    tf.keras.layers.Conv2D(32,(3,3),activation=\"relu\"),\n",
    "    tf.keras.layers.MaxPooling2D(2,2),\n",
    "    tf.keras.layers.Conv2D(64,(3,3),activation=\"relu\"),\n",
    "    tf.keras.layers.MaxPooling2D(2,2),\n",
    "    tf.keras.layers.Flatten(),\n",
    "    tf.keras.layers.Dense(512,activation=\"relu\"),\n",
    "    tf.keras.layers.Dense(1,activation=\"sigmoid\")\n",
    "\n",
    "\n",
    "])"
   ]
  },
  {
   "cell_type": "code",
   "execution_count": 8,
   "metadata": {},
   "outputs": [
    {
     "name": "stdout",
     "output_type": "stream",
     "text": [
      "Epoch 1/10\n"
     ]
    },
    {
     "name": "stderr",
     "output_type": "stream",
     "text": [
      "2023-12-24 18:32:53.597122: I tensorflow/core/common_runtime/executor.cc:1197] [/device:CPU:0] (DEBUG INFO) Executor start aborting (this does not indicate an error and you can ignore this message): INVALID_ARGUMENT: You must feed a value for placeholder tensor 'Placeholder/_4' with dtype int32 and shape [3258]\n",
      "\t [[{{node Placeholder/_4}}]]\n",
      "2023-12-24 18:32:53.597455: I tensorflow/core/common_runtime/executor.cc:1197] [/device:CPU:0] (DEBUG INFO) Executor start aborting (this does not indicate an error and you can ignore this message): INVALID_ARGUMENT: You must feed a value for placeholder tensor 'Placeholder/_4' with dtype int32 and shape [3258]\n",
      "\t [[{{node Placeholder/_4}}]]\n"
     ]
    },
    {
     "name": "stdout",
     "output_type": "stream",
     "text": [
      " 10/102 [=>............................] - ETA: 6s - loss: 0.4236 - accuracy: 0.7937"
     ]
    },
    {
     "name": "stderr",
     "output_type": "stream",
     "text": [
      "2023-12-24 18:32:56.061900: W tensorflow/core/lib/png/png_io.cc:88] PNG warning: iCCP: Not recognizing known sRGB profile that has been edited\n"
     ]
    },
    {
     "name": "stdout",
     "output_type": "stream",
     "text": [
      " 50/102 [=============>................] - ETA: 3s - loss: 0.2191 - accuracy: 0.9112"
     ]
    },
    {
     "name": "stderr",
     "output_type": "stream",
     "text": [
      "2023-12-24 18:32:58.841333: W tensorflow/core/lib/png/png_io.cc:88] PNG warning: iCCP: Not recognizing known sRGB profile that has been edited\n"
     ]
    },
    {
     "name": "stdout",
     "output_type": "stream",
     "text": [
      " 58/102 [================>.............] - ETA: 3s - loss: 0.2132 - accuracy: 0.9143"
     ]
    },
    {
     "name": "stderr",
     "output_type": "stream",
     "text": [
      "2023-12-24 18:32:59.401332: W tensorflow/core/lib/png/png_io.cc:88] PNG warning: iCCP: Not recognizing known sRGB profile that has been edited\n"
     ]
    },
    {
     "name": "stdout",
     "output_type": "stream",
     "text": [
      " 71/102 [===================>..........] - ETA: 2s - loss: 0.2009 - accuracy: 0.9217"
     ]
    },
    {
     "name": "stderr",
     "output_type": "stream",
     "text": [
      "2023-12-24 18:33:00.301973: W tensorflow/core/lib/png/png_io.cc:88] PNG warning: iCCP: Not recognizing known sRGB profile that has been edited\n"
     ]
    },
    {
     "name": "stdout",
     "output_type": "stream",
     "text": [
      "102/102 [==============================] - ETA: 0s - loss: 0.1795 - accuracy: 0.9303"
     ]
    },
    {
     "name": "stderr",
     "output_type": "stream",
     "text": [
      "2023-12-24 18:33:02.631247: I tensorflow/core/common_runtime/executor.cc:1197] [/device:CPU:0] (DEBUG INFO) Executor start aborting (this does not indicate an error and you can ignore this message): INVALID_ARGUMENT: You must feed a value for placeholder tensor 'Placeholder/_4' with dtype int32 and shape [814]\n",
      "\t [[{{node Placeholder/_4}}]]\n",
      "2023-12-24 18:33:02.631509: I tensorflow/core/common_runtime/executor.cc:1197] [/device:CPU:0] (DEBUG INFO) Executor start aborting (this does not indicate an error and you can ignore this message): INVALID_ARGUMENT: You must feed a value for placeholder tensor 'Placeholder/_0' with dtype string and shape [814]\n",
      "\t [[{{node Placeholder/_0}}]]\n",
      "2023-12-24 18:33:02.757058: W tensorflow/core/lib/png/png_io.cc:88] PNG warning: iCCP: Not recognizing known sRGB profile that has been edited\n"
     ]
    },
    {
     "name": "stdout",
     "output_type": "stream",
     "text": [
      "102/102 [==============================] - 10s 79ms/step - loss: 0.1795 - accuracy: 0.9303 - val_loss: 0.1166 - val_accuracy: 0.9607\n",
      "Epoch 2/10\n",
      " 10/102 [=>............................] - ETA: 6s - loss: 0.1090 - accuracy: 0.9563"
     ]
    },
    {
     "name": "stderr",
     "output_type": "stream",
     "text": [
      "2023-12-24 18:33:04.150168: W tensorflow/core/lib/png/png_io.cc:88] PNG warning: iCCP: Not recognizing known sRGB profile that has been edited\n"
     ]
    },
    {
     "name": "stdout",
     "output_type": "stream",
     "text": [
      " 50/102 [=============>................] - ETA: 3s - loss: 0.1030 - accuracy: 0.9588"
     ]
    },
    {
     "name": "stderr",
     "output_type": "stream",
     "text": [
      "2023-12-24 18:33:06.895136: W tensorflow/core/lib/png/png_io.cc:88] PNG warning: iCCP: Not recognizing known sRGB profile that has been edited\n"
     ]
    },
    {
     "name": "stdout",
     "output_type": "stream",
     "text": [
      " 58/102 [================>.............] - ETA: 3s - loss: 0.1030 - accuracy: 0.9596"
     ]
    },
    {
     "name": "stderr",
     "output_type": "stream",
     "text": [
      "2023-12-24 18:33:07.449155: W tensorflow/core/lib/png/png_io.cc:88] PNG warning: iCCP: Not recognizing known sRGB profile that has been edited\n"
     ]
    },
    {
     "name": "stdout",
     "output_type": "stream",
     "text": [
      " 71/102 [===================>..........] - ETA: 2s - loss: 0.1081 - accuracy: 0.9569"
     ]
    },
    {
     "name": "stderr",
     "output_type": "stream",
     "text": [
      "2023-12-24 18:33:08.342709: W tensorflow/core/lib/png/png_io.cc:88] PNG warning: iCCP: Not recognizing known sRGB profile that has been edited\n"
     ]
    },
    {
     "name": "stdout",
     "output_type": "stream",
     "text": [
      "102/102 [==============================] - ETA: 0s - loss: 0.1109 - accuracy: 0.9586"
     ]
    },
    {
     "name": "stderr",
     "output_type": "stream",
     "text": [
      "2023-12-24 18:33:10.626529: W tensorflow/core/lib/png/png_io.cc:88] PNG warning: iCCP: Not recognizing known sRGB profile that has been edited\n"
     ]
    },
    {
     "name": "stdout",
     "output_type": "stream",
     "text": [
      "102/102 [==============================] - 8s 76ms/step - loss: 0.1109 - accuracy: 0.9586 - val_loss: 0.1316 - val_accuracy: 0.9509\n",
      "Epoch 3/10\n",
      " 10/102 [=>............................] - ETA: 6s - loss: 0.0903 - accuracy: 0.9656"
     ]
    },
    {
     "name": "stderr",
     "output_type": "stream",
     "text": [
      "2023-12-24 18:33:11.961720: W tensorflow/core/lib/png/png_io.cc:88] PNG warning: iCCP: Not recognizing known sRGB profile that has been edited\n"
     ]
    },
    {
     "name": "stdout",
     "output_type": "stream",
     "text": [
      " 49/102 [=============>................] - ETA: 3s - loss: 0.0905 - accuracy: 0.9662"
     ]
    },
    {
     "name": "stderr",
     "output_type": "stream",
     "text": [
      "2023-12-24 18:33:14.728564: W tensorflow/core/lib/png/png_io.cc:88] PNG warning: iCCP: Not recognizing known sRGB profile that has been edited\n"
     ]
    },
    {
     "name": "stdout",
     "output_type": "stream",
     "text": [
      " 58/102 [================>.............] - ETA: 3s - loss: 0.0894 - accuracy: 0.9671"
     ]
    },
    {
     "name": "stderr",
     "output_type": "stream",
     "text": [
      "2023-12-24 18:33:15.292483: W tensorflow/core/lib/png/png_io.cc:88] PNG warning: iCCP: Not recognizing known sRGB profile that has been edited\n"
     ]
    },
    {
     "name": "stdout",
     "output_type": "stream",
     "text": [
      " 71/102 [===================>..........] - ETA: 2s - loss: 0.0929 - accuracy: 0.9648"
     ]
    },
    {
     "name": "stderr",
     "output_type": "stream",
     "text": [
      "2023-12-24 18:33:16.192496: W tensorflow/core/lib/png/png_io.cc:88] PNG warning: iCCP: Not recognizing known sRGB profile that has been edited\n"
     ]
    },
    {
     "name": "stdout",
     "output_type": "stream",
     "text": [
      "101/102 [============================>.] - ETA: 0s - loss: 0.1005 - accuracy: 0.9623"
     ]
    },
    {
     "name": "stderr",
     "output_type": "stream",
     "text": [
      "2023-12-24 18:33:18.506187: W tensorflow/core/lib/png/png_io.cc:88] PNG warning: iCCP: Not recognizing known sRGB profile that has been edited\n"
     ]
    },
    {
     "name": "stdout",
     "output_type": "stream",
     "text": [
      "102/102 [==============================] - 8s 77ms/step - loss: 0.1002 - accuracy: 0.9626 - val_loss: 0.1199 - val_accuracy: 0.9595\n",
      "Epoch 4/10\n",
      "  9/102 [=>............................] - ETA: 6s - loss: 0.0785 - accuracy: 0.9722"
     ]
    },
    {
     "name": "stderr",
     "output_type": "stream",
     "text": [
      "2023-12-24 18:33:19.816891: W tensorflow/core/lib/png/png_io.cc:88] PNG warning: iCCP: Not recognizing known sRGB profile that has been edited\n"
     ]
    },
    {
     "name": "stdout",
     "output_type": "stream",
     "text": [
      " 49/102 [=============>................] - ETA: 3s - loss: 0.1028 - accuracy: 0.9579"
     ]
    },
    {
     "name": "stderr",
     "output_type": "stream",
     "text": [
      "2023-12-24 18:33:22.579588: W tensorflow/core/lib/png/png_io.cc:88] PNG warning: iCCP: Not recognizing known sRGB profile that has been edited\n"
     ]
    },
    {
     "name": "stdout",
     "output_type": "stream",
     "text": [
      " 57/102 [===============>..............] - ETA: 3s - loss: 0.1007 - accuracy: 0.9594"
     ]
    },
    {
     "name": "stderr",
     "output_type": "stream",
     "text": [
      "2023-12-24 18:33:23.145585: W tensorflow/core/lib/png/png_io.cc:88] PNG warning: iCCP: Not recognizing known sRGB profile that has been edited\n"
     ]
    },
    {
     "name": "stdout",
     "output_type": "stream",
     "text": [
      " 70/102 [===================>..........] - ETA: 2s - loss: 0.0971 - accuracy: 0.9621"
     ]
    },
    {
     "name": "stderr",
     "output_type": "stream",
     "text": [
      "2023-12-24 18:33:24.062250: W tensorflow/core/lib/png/png_io.cc:88] PNG warning: iCCP: Not recognizing known sRGB profile that has been edited\n"
     ]
    },
    {
     "name": "stdout",
     "output_type": "stream",
     "text": [
      "102/102 [==============================] - ETA: 0s - loss: 0.1085 - accuracy: 0.9576"
     ]
    },
    {
     "name": "stderr",
     "output_type": "stream",
     "text": [
      "2023-12-24 18:33:26.432442: W tensorflow/core/lib/png/png_io.cc:88] PNG warning: iCCP: Not recognizing known sRGB profile that has been edited\n"
     ]
    },
    {
     "name": "stdout",
     "output_type": "stream",
     "text": [
      "102/102 [==============================] - 8s 77ms/step - loss: 0.1085 - accuracy: 0.9576 - val_loss: 0.1243 - val_accuracy: 0.9570\n",
      "Epoch 5/10\n",
      "  9/102 [=>............................] - ETA: 6s - loss: 0.0801 - accuracy: 0.9583"
     ]
    },
    {
     "name": "stderr",
     "output_type": "stream",
     "text": [
      "2023-12-24 18:33:27.777394: W tensorflow/core/lib/png/png_io.cc:88] PNG warning: iCCP: Not recognizing known sRGB profile that has been edited\n"
     ]
    },
    {
     "name": "stdout",
     "output_type": "stream",
     "text": [
      " 50/102 [=============>................] - ETA: 3s - loss: 0.0935 - accuracy: 0.9625"
     ]
    },
    {
     "name": "stderr",
     "output_type": "stream",
     "text": [
      "2023-12-24 18:33:30.560439: W tensorflow/core/lib/png/png_io.cc:88] PNG warning: iCCP: Not recognizing known sRGB profile that has been edited\n"
     ]
    },
    {
     "name": "stdout",
     "output_type": "stream",
     "text": [
      " 58/102 [================>.............] - ETA: 3s - loss: 0.0931 - accuracy: 0.9639"
     ]
    },
    {
     "name": "stderr",
     "output_type": "stream",
     "text": [
      "2023-12-24 18:33:31.138242: W tensorflow/core/lib/png/png_io.cc:88] PNG warning: iCCP: Not recognizing known sRGB profile that has been edited\n"
     ]
    },
    {
     "name": "stdout",
     "output_type": "stream",
     "text": [
      " 71/102 [===================>..........] - ETA: 2s - loss: 0.0921 - accuracy: 0.9661"
     ]
    },
    {
     "name": "stderr",
     "output_type": "stream",
     "text": [
      "2023-12-24 18:33:32.062853: W tensorflow/core/lib/png/png_io.cc:88] PNG warning: iCCP: Not recognizing known sRGB profile that has been edited\n"
     ]
    },
    {
     "name": "stdout",
     "output_type": "stream",
     "text": [
      "102/102 [==============================] - ETA: 0s - loss: 0.0965 - accuracy: 0.9632"
     ]
    },
    {
     "name": "stderr",
     "output_type": "stream",
     "text": [
      "2023-12-24 18:33:34.434363: W tensorflow/core/lib/png/png_io.cc:88] PNG warning: iCCP: Not recognizing known sRGB profile that has been edited\n"
     ]
    },
    {
     "name": "stdout",
     "output_type": "stream",
     "text": [
      "102/102 [==============================] - 8s 78ms/step - loss: 0.0965 - accuracy: 0.9632 - val_loss: 0.1268 - val_accuracy: 0.9521\n",
      "Epoch 6/10\n",
      " 10/102 [=>............................] - ETA: 6s - loss: 0.0762 - accuracy: 0.9750"
     ]
    },
    {
     "name": "stderr",
     "output_type": "stream",
     "text": [
      "2023-12-24 18:33:35.841632: W tensorflow/core/lib/png/png_io.cc:88] PNG warning: iCCP: Not recognizing known sRGB profile that has been edited\n"
     ]
    },
    {
     "name": "stdout",
     "output_type": "stream",
     "text": [
      " 49/102 [=============>................] - ETA: 3s - loss: 0.0854 - accuracy: 0.9726"
     ]
    },
    {
     "name": "stderr",
     "output_type": "stream",
     "text": [
      "2023-12-24 18:33:38.641960: W tensorflow/core/lib/png/png_io.cc:88] PNG warning: iCCP: Not recognizing known sRGB profile that has been edited\n"
     ]
    },
    {
     "name": "stdout",
     "output_type": "stream",
     "text": [
      " 58/102 [================>.............] - ETA: 3s - loss: 0.0819 - accuracy: 0.9731"
     ]
    },
    {
     "name": "stderr",
     "output_type": "stream",
     "text": [
      "2023-12-24 18:33:39.206784: W tensorflow/core/lib/png/png_io.cc:88] PNG warning: iCCP: Not recognizing known sRGB profile that has been edited\n"
     ]
    },
    {
     "name": "stdout",
     "output_type": "stream",
     "text": [
      " 71/102 [===================>..........] - ETA: 2s - loss: 0.0895 - accuracy: 0.9696"
     ]
    },
    {
     "name": "stderr",
     "output_type": "stream",
     "text": [
      "2023-12-24 18:33:40.114754: W tensorflow/core/lib/png/png_io.cc:88] PNG warning: iCCP: Not recognizing known sRGB profile that has been edited\n"
     ]
    },
    {
     "name": "stdout",
     "output_type": "stream",
     "text": [
      "102/102 [==============================] - ETA: 0s - loss: 0.0974 - accuracy: 0.9653"
     ]
    },
    {
     "name": "stderr",
     "output_type": "stream",
     "text": [
      "2023-12-24 18:33:42.511344: W tensorflow/core/lib/png/png_io.cc:88] PNG warning: iCCP: Not recognizing known sRGB profile that has been edited\n"
     ]
    },
    {
     "name": "stdout",
     "output_type": "stream",
     "text": [
      "102/102 [==============================] - 8s 78ms/step - loss: 0.0974 - accuracy: 0.9653 - val_loss: 0.1110 - val_accuracy: 0.9681\n",
      "Epoch 7/10\n",
      " 10/102 [=>............................] - ETA: 6s - loss: 0.0931 - accuracy: 0.9594"
     ]
    },
    {
     "name": "stderr",
     "output_type": "stream",
     "text": [
      "2023-12-24 18:33:43.895309: W tensorflow/core/lib/png/png_io.cc:88] PNG warning: iCCP: Not recognizing known sRGB profile that has been edited\n"
     ]
    },
    {
     "name": "stdout",
     "output_type": "stream",
     "text": [
      " 49/102 [=============>................] - ETA: 3s - loss: 0.0826 - accuracy: 0.9681"
     ]
    },
    {
     "name": "stderr",
     "output_type": "stream",
     "text": [
      "2023-12-24 18:33:46.677320: W tensorflow/core/lib/png/png_io.cc:88] PNG warning: iCCP: Not recognizing known sRGB profile that has been edited\n"
     ]
    },
    {
     "name": "stdout",
     "output_type": "stream",
     "text": [
      " 58/102 [================>.............] - ETA: 3s - loss: 0.0830 - accuracy: 0.9677"
     ]
    },
    {
     "name": "stderr",
     "output_type": "stream",
     "text": [
      "2023-12-24 18:33:47.243025: W tensorflow/core/lib/png/png_io.cc:88] PNG warning: iCCP: Not recognizing known sRGB profile that has been edited\n"
     ]
    },
    {
     "name": "stdout",
     "output_type": "stream",
     "text": [
      " 71/102 [===================>..........] - ETA: 2s - loss: 0.0858 - accuracy: 0.9670"
     ]
    },
    {
     "name": "stderr",
     "output_type": "stream",
     "text": [
      "2023-12-24 18:33:48.143252: W tensorflow/core/lib/png/png_io.cc:88] PNG warning: iCCP: Not recognizing known sRGB profile that has been edited\n"
     ]
    },
    {
     "name": "stdout",
     "output_type": "stream",
     "text": [
      "102/102 [==============================] - ETA: 0s - loss: 0.0859 - accuracy: 0.9669"
     ]
    },
    {
     "name": "stderr",
     "output_type": "stream",
     "text": [
      "2023-12-24 18:33:50.495630: W tensorflow/core/lib/png/png_io.cc:88] PNG warning: iCCP: Not recognizing known sRGB profile that has been edited\n"
     ]
    },
    {
     "name": "stdout",
     "output_type": "stream",
     "text": [
      "102/102 [==============================] - 8s 77ms/step - loss: 0.0859 - accuracy: 0.9669 - val_loss: 0.1114 - val_accuracy: 0.9619\n",
      "Epoch 8/10\n",
      "  9/102 [=>............................] - ETA: 6s - loss: 0.0647 - accuracy: 0.9826"
     ]
    },
    {
     "name": "stderr",
     "output_type": "stream",
     "text": [
      "2023-12-24 18:33:51.863934: W tensorflow/core/lib/png/png_io.cc:88] PNG warning: iCCP: Not recognizing known sRGB profile that has been edited\n"
     ]
    },
    {
     "name": "stdout",
     "output_type": "stream",
     "text": [
      " 49/102 [=============>................] - ETA: 3s - loss: 0.0821 - accuracy: 0.9713"
     ]
    },
    {
     "name": "stderr",
     "output_type": "stream",
     "text": [
      "2023-12-24 18:33:54.714780: W tensorflow/core/lib/png/png_io.cc:88] PNG warning: iCCP: Not recognizing known sRGB profile that has been edited\n"
     ]
    },
    {
     "name": "stdout",
     "output_type": "stream",
     "text": [
      " 57/102 [===============>..............] - ETA: 3s - loss: 0.0863 - accuracy: 0.9682"
     ]
    },
    {
     "name": "stderr",
     "output_type": "stream",
     "text": [
      "2023-12-24 18:33:55.281463: W tensorflow/core/lib/png/png_io.cc:88] PNG warning: iCCP: Not recognizing known sRGB profile that has been edited\n"
     ]
    },
    {
     "name": "stdout",
     "output_type": "stream",
     "text": [
      " 71/102 [===================>..........] - ETA: 2s - loss: 0.0898 - accuracy: 0.9661"
     ]
    },
    {
     "name": "stderr",
     "output_type": "stream",
     "text": [
      "2023-12-24 18:33:56.189585: W tensorflow/core/lib/png/png_io.cc:88] PNG warning: iCCP: Not recognizing known sRGB profile that has been edited\n"
     ]
    },
    {
     "name": "stdout",
     "output_type": "stream",
     "text": [
      "102/102 [==============================] - ETA: 0s - loss: 0.0935 - accuracy: 0.9656"
     ]
    },
    {
     "name": "stderr",
     "output_type": "stream",
     "text": [
      "2023-12-24 18:33:58.556395: W tensorflow/core/lib/png/png_io.cc:88] PNG warning: iCCP: Not recognizing known sRGB profile that has been edited\n"
     ]
    },
    {
     "name": "stdout",
     "output_type": "stream",
     "text": [
      "102/102 [==============================] - 8s 78ms/step - loss: 0.0935 - accuracy: 0.9656 - val_loss: 0.1141 - val_accuracy: 0.9607\n",
      "Epoch 9/10\n",
      " 10/102 [=>............................] - ETA: 6s - loss: 0.0623 - accuracy: 0.9844"
     ]
    },
    {
     "name": "stderr",
     "output_type": "stream",
     "text": [
      "2023-12-24 18:33:59.917659: W tensorflow/core/lib/png/png_io.cc:88] PNG warning: iCCP: Not recognizing known sRGB profile that has been edited\n"
     ]
    },
    {
     "name": "stdout",
     "output_type": "stream",
     "text": [
      " 49/102 [=============>................] - ETA: 3s - loss: 0.0743 - accuracy: 0.9732"
     ]
    },
    {
     "name": "stderr",
     "output_type": "stream",
     "text": [
      "2023-12-24 18:34:02.709868: W tensorflow/core/lib/png/png_io.cc:88] PNG warning: iCCP: Not recognizing known sRGB profile that has been edited\n"
     ]
    },
    {
     "name": "stdout",
     "output_type": "stream",
     "text": [
      " 58/102 [================>.............] - ETA: 3s - loss: 0.0754 - accuracy: 0.9725"
     ]
    },
    {
     "name": "stderr",
     "output_type": "stream",
     "text": [
      "2023-12-24 18:34:03.288986: W tensorflow/core/lib/png/png_io.cc:88] PNG warning: iCCP: Not recognizing known sRGB profile that has been edited\n"
     ]
    },
    {
     "name": "stdout",
     "output_type": "stream",
     "text": [
      " 71/102 [===================>..........] - ETA: 2s - loss: 0.0752 - accuracy: 0.9718"
     ]
    },
    {
     "name": "stderr",
     "output_type": "stream",
     "text": [
      "2023-12-24 18:34:04.215007: W tensorflow/core/lib/png/png_io.cc:88] PNG warning: iCCP: Not recognizing known sRGB profile that has been edited\n"
     ]
    },
    {
     "name": "stdout",
     "output_type": "stream",
     "text": [
      "102/102 [==============================] - ETA: 0s - loss: 0.0851 - accuracy: 0.9672"
     ]
    },
    {
     "name": "stderr",
     "output_type": "stream",
     "text": [
      "2023-12-24 18:34:06.595526: W tensorflow/core/lib/png/png_io.cc:88] PNG warning: iCCP: Not recognizing known sRGB profile that has been edited\n"
     ]
    },
    {
     "name": "stdout",
     "output_type": "stream",
     "text": [
      "102/102 [==============================] - 8s 78ms/step - loss: 0.0851 - accuracy: 0.9672 - val_loss: 0.1119 - val_accuracy: 0.9631\n",
      "Epoch 10/10\n",
      "  9/102 [=>............................] - ETA: 6s - loss: 0.0717 - accuracy: 0.9653"
     ]
    },
    {
     "name": "stderr",
     "output_type": "stream",
     "text": [
      "2023-12-24 18:34:07.976563: W tensorflow/core/lib/png/png_io.cc:88] PNG warning: iCCP: Not recognizing known sRGB profile that has been edited\n"
     ]
    },
    {
     "name": "stdout",
     "output_type": "stream",
     "text": [
      " 49/102 [=============>................] - ETA: 3s - loss: 0.0682 - accuracy: 0.9732"
     ]
    },
    {
     "name": "stderr",
     "output_type": "stream",
     "text": [
      "2023-12-24 18:34:10.807705: W tensorflow/core/lib/png/png_io.cc:88] PNG warning: iCCP: Not recognizing known sRGB profile that has been edited\n"
     ]
    },
    {
     "name": "stdout",
     "output_type": "stream",
     "text": [
      " 58/102 [================>.............] - ETA: 3s - loss: 0.0737 - accuracy: 0.9693"
     ]
    },
    {
     "name": "stderr",
     "output_type": "stream",
     "text": [
      "2023-12-24 18:34:11.386560: W tensorflow/core/lib/png/png_io.cc:88] PNG warning: iCCP: Not recognizing known sRGB profile that has been edited\n"
     ]
    },
    {
     "name": "stdout",
     "output_type": "stream",
     "text": [
      " 70/102 [===================>..........] - ETA: 2s - loss: 0.0728 - accuracy: 0.9710"
     ]
    },
    {
     "name": "stderr",
     "output_type": "stream",
     "text": [
      "2023-12-24 18:34:12.313454: W tensorflow/core/lib/png/png_io.cc:88] PNG warning: iCCP: Not recognizing known sRGB profile that has been edited\n"
     ]
    },
    {
     "name": "stdout",
     "output_type": "stream",
     "text": [
      "102/102 [==============================] - ETA: 0s - loss: 0.0768 - accuracy: 0.9702"
     ]
    },
    {
     "name": "stderr",
     "output_type": "stream",
     "text": [
      "2023-12-24 18:34:14.689944: W tensorflow/core/lib/png/png_io.cc:88] PNG warning: iCCP: Not recognizing known sRGB profile that has been edited\n"
     ]
    },
    {
     "name": "stdout",
     "output_type": "stream",
     "text": [
      "102/102 [==============================] - 8s 78ms/step - loss: 0.0768 - accuracy: 0.9702 - val_loss: 0.0926 - val_accuracy: 0.9681\n"
     ]
    }
   ],
   "source": [
    "model.compile(loss=\"binary_crossentropy\",optimizer=\"adam\",metrics=[\"accuracy\"])\n",
    "\n",
    "history = model.fit(train,validation_data=validation,epochs=10)"
   ]
  },
  {
   "cell_type": "code",
   "execution_count": null,
   "metadata": {},
   "outputs": [],
   "source": []
  }
 ],
 "metadata": {
  "kernelspec": {
   "display_name": ".venv",
   "language": "python",
   "name": "python3"
  },
  "language_info": {
   "codemirror_mode": {
    "name": "ipython",
    "version": 3
   },
   "file_extension": ".py",
   "mimetype": "text/x-python",
   "name": "python",
   "nbconvert_exporter": "python",
   "pygments_lexer": "ipython3",
   "version": "3.10.12"
  },
  "orig_nbformat": 4,
  "vscode": {
   "interpreter": {
    "hash": "6b30c9ba03b399a00445b57e8329e7e8ff9126c8b131d3b5ebe05bafd9dada6e"
   }
  }
 },
 "nbformat": 4,
 "nbformat_minor": 2
}
